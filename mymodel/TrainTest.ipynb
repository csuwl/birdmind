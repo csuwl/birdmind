{
 "cells": [
  {
   "cell_type": "code",
   "id": "initial_id",
   "metadata": {
    "collapsed": true,
    "ExecuteTime": {
     "end_time": "2025-02-09T06:16:40.262914Z",
     "start_time": "2025-02-09T06:16:40.201609Z"
    }
   },
   "source": [
    "import torch\n",
    "\n",
    "from mymodel.Model import Model, ModelArgs\n",
    "\n",
    "with open(\"../sales_textbook.txt\", \"r\") as file:\n",
    "    text = file.read()\n",
    "    # print(text)\n",
    "\n",
    "import tiktoken\n",
    "tokenizer = tiktoken.get_encoding(\"cl100k_base\")\n",
    "tokens = tokenizer.encode(text)\n",
    "print(len(tokens))\n"
   ],
   "outputs": [
    {
     "name": "stdout",
     "output_type": "stream",
     "text": [
      "77919\n"
     ]
    }
   ],
   "execution_count": 34
  },
  {
   "metadata": {
    "ExecuteTime": {
     "end_time": "2025-02-09T06:16:40.371742Z",
     "start_time": "2025-02-09T06:16:40.369091Z"
    }
   },
   "cell_type": "code",
   "source": "train_index =  int(len(tokens)*0.9)",
   "id": "17b1939924ae23b7",
   "outputs": [],
   "execution_count": 35
  },
  {
   "metadata": {
    "ExecuteTime": {
     "end_time": "2025-02-09T06:16:40.393981Z",
     "start_time": "2025-02-09T06:16:40.388961Z"
    }
   },
   "cell_type": "code",
   "source": [
    "train_data = tokens[:train_index]\n",
    "test_data = tokens[train_index:]\n",
    "\n",
    "batch_size =4\n",
    "seq_len = 20\n",
    "vocab_szie = tokenizer.n_vocab\n"
   ],
   "id": "354c8fdee05657b0",
   "outputs": [],
   "execution_count": 36
  },
  {
   "metadata": {
    "ExecuteTime": {
     "end_time": "2025-02-09T11:31:18.406076Z",
     "start_time": "2025-02-09T11:31:18.401436Z"
    }
   },
   "cell_type": "code",
   "source": "- (0-7) * 2 ** (-(0 + 2))",
   "id": "d52858d560045bfb",
   "outputs": [
    {
     "data": {
      "text/plain": [
       "1.75"
      ]
     },
     "execution_count": 7,
     "metadata": {},
     "output_type": "execute_result"
    }
   ],
   "execution_count": 7
  },
  {
   "metadata": {},
   "cell_type": "markdown",
   "source": "",
   "id": "c6e31a65c1e0d1cd"
  },
  {
   "metadata": {},
   "cell_type": "markdown",
   "source": "",
   "id": "ba3d68677213d29a"
  }
 ],
 "metadata": {
  "kernelspec": {
   "display_name": "Python 3",
   "language": "python",
   "name": "python3"
  },
  "language_info": {
   "codemirror_mode": {
    "name": "ipython",
    "version": 2
   },
   "file_extension": ".py",
   "mimetype": "text/x-python",
   "name": "python",
   "nbconvert_exporter": "python",
   "pygments_lexer": "ipython2",
   "version": "2.7.6"
  }
 },
 "nbformat": 4,
 "nbformat_minor": 5
}
